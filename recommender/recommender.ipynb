{
 "cells": [
  {
   "cell_type": "code",
   "execution_count": 2,
   "id": "82db5cde-62c0-446f-94da-88d217e6ca56",
   "metadata": {},
   "outputs": [],
   "source": [
    "import numpy as np\n",
    "import pandas as pd\n",
    "from typing import List\n",
    "from sklearn.metrics.pairwise import cosine_similarity"
   ]
  },
  {
   "cell_type": "code",
   "execution_count": 3,
   "id": "8dffbaaa-f1dd-40ce-9d38-e28d172a5ce4",
   "metadata": {},
   "outputs": [],
   "source": [
    "# load codeex quiz user's performance dataset\n",
    "performance_df = pd.read_csv(\"codeex_quiz_performance.csv\")\n",
    "\n",
    "performance_df.columns = [\n",
    "    \"user_id\", \n",
    "    \"full_name\", \n",
    "    \"quiz_id\", \n",
    "    \"quiz_points\", \n",
    "    \"quiz_difficulty\", \n",
    "    \"time_limit\", \n",
    "    \"total_sub_quizzes\", \n",
    "    \"topic_id\", \n",
    "    \"topic_label\", \n",
    "    \"rewarded_points\", \n",
    "    \"completion_time\", \n",
    "    \"total_completed_sub_quizzes\"\n",
    "]"
   ]
  },
  {
   "cell_type": "code",
   "execution_count": 4,
   "id": "5e62ea0c-80ce-457d-8d3d-112de146c386",
   "metadata": {},
   "outputs": [],
   "source": [
    "def calculate_user_performance_score(performance: pd.DataFrame) -> int:\n",
    "    \"\"\"\n",
    "    \"total_points_possible\" refers to the maximum number of points that can be earned in a quiz. \n",
    "    It is the total number of points that the quiz is worth, regardless of how many points the \n",
    "    user actually earned.\n",
    "\n",
    "    For example, if a quiz is worth 100 points and the user earns 90 points, then the total_points_possible \n",
    "    would still be 100. This is important to include in the performance score formula because it normalizes \n",
    "    the user's performance across quizzes that have different point values. It ensures that a user \n",
    "    who earns 90 points on a 100-point quiz is not penalized compared to a user who earns 90 points \n",
    "    on a 50-point quiz.\n",
    "    \"\"\"\n",
    "    total_points_possible = 100 # that mean 10 sub quizzes maximum, for each 10 points\n",
    "    \n",
    "    time_factor = performance.time_limit / performance.completion_time\n",
    "    completion_factor = performance.total_sub_quizzes / performance.total_completed_sub_quizzes\n",
    "    completion_time_factor = performance.completion_time / performance.time_limit\n",
    "    total_completed_sub_quizzes_factor = performance.total_completed_sub_quizzes / performance.total_sub_quizzes\n",
    "    difficulity_rate = (performance.quiz_difficulty - 1) / 2\n",
    "    rewarded_points_factor = performance.rewarded_points / performance.quiz_points\n",
    "    \n",
    "    return (performance.quiz_points *  difficulity_rate * time_factor *  completion_factor * rewarded_points_factor) /\\\n",
    "        (total_points_possible * performance.total_sub_quizzes * completion_time_factor * total_completed_sub_quizzes_factor) \\\n",
    "            * 100"
   ]
  },
  {
   "cell_type": "code",
   "execution_count": 7,
   "id": "e48ba6fc-24e5-40ed-ad0d-49447b60c487",
   "metadata": {},
   "outputs": [],
   "source": [
    "# dataframe containing user quiz score\n",
    "performance_df[\"scores\"] = performance_df.apply(calculate_user_performance_score, axis=1)"
   ]
  },
  {
   "cell_type": "code",
   "execution_count": 10,
   "id": "5cd81f7d-b4e8-4e13-b628-a93439be5799",
   "metadata": {},
   "outputs": [],
   "source": [
    "# dataframe containing user topic scores\n",
    "result = performance_df.groupby(['user_id', 'topic_id'])['scores'].mean()\n",
    "topic_scores = pd.DataFrame(result).reset_index()"
   ]
  },
  {
   "cell_type": "code",
   "execution_count": 11,
   "id": "ea7afad4-72cd-4bed-9a63-d2a3be654945",
   "metadata": {},
   "outputs": [],
   "source": [
    "# topic perfomance dataframe\n",
    "topic_performance = topic_scores.pivot(index='user_id', columns='topic_id', values='scores').fillna(0)"
   ]
  },
  {
   "cell_type": "code",
   "execution_count": 12,
   "id": "c6857fcf-2d71-4f0c-b11a-674969e64d9c",
   "metadata": {},
   "outputs": [],
   "source": [
    "# users similarity matrix\n",
    "users_similarity = cosine_similarity(topic_performance.values)"
   ]
  },
  {
   "cell_type": "code",
   "execution_count": 13,
   "id": "a23d02f1-fa37-45e8-a9be-31ebadd4e0dc",
   "metadata": {},
   "outputs": [],
   "source": [
    "# get important neighbors_ids for a given user\n",
    "def get_important_neighbors_ids(user_similarity: np.ndarray, users_id: List[str]) -> List[str]:\n",
    "    important_neighbors_count = 10\n",
    "    target_user_neighbors = pd.Series(user_similarity, index=users_id)\n",
    "    target_user_neighbors_sorted = target_user_neighbors.sort_values(ascending=False)\n",
    "    nearest_neighbors = target_user_neighbors_sorted[:important_neighbors_count]\n",
    "    neighbors_ids = nearest_neighbors.index\n",
    "    return neighbors_ids"
   ]
  },
  {
   "cell_type": "code",
   "execution_count": 14,
   "id": "460ab2a7-9651-40b1-9f8a-5f1dcea6466f",
   "metadata": {},
   "outputs": [],
   "source": [
    "# a dataframe that holds all the nearest similar users for all users\n",
    "users_id = topic_performance.index\n",
    "users_important_neighbors_df = pd.DataFrame([\n",
    "    get_important_neighbors_ids(user_similarity, users_id) \n",
    "    for user_similarity in users_similarity\n",
    "], index=users_id)"
   ]
  },
  {
   "cell_type": "code",
   "execution_count": 15,
   "id": "2f0e51f3-0591-4334-a4f8-90c3833ab492",
   "metadata": {},
   "outputs": [],
   "source": [
    "quizzes_to_suggest_for_users = np.array([\n",
    "    set(performance_df.loc[\n",
    "        performance_df[\"user_id\"].isin(user_important_neighbors),\n",
    "        \"quiz_id\"\n",
    "    ].values)\n",
    "    for user_important_neighbors in users_important_neighbors_df.values\n",
    "])"
   ]
  }
 ],
 "metadata": {
  "kernelspec": {
   "display_name": "Python 3 (ipykernel)",
   "language": "python",
   "name": "python3"
  },
  "language_info": {
   "codemirror_mode": {
    "name": "ipython",
    "version": 3
   },
   "file_extension": ".py",
   "mimetype": "text/x-python",
   "name": "python",
   "nbconvert_exporter": "python",
   "pygments_lexer": "ipython3",
   "version": "3.10.9"
  }
 },
 "nbformat": 4,
 "nbformat_minor": 5
}
