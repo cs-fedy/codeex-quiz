{
 "cells": [
  {
   "cell_type": "code",
   "execution_count": 1,
   "id": "f496bdee-4713-4833-bfd9-6169e6f2afb2",
   "metadata": {},
   "outputs": [],
   "source": [
    "# TODO: fix the calculate_user_performance_score function\n",
    "# TODO: learn more about cosine_similarity and pearson correlation coefficient \n",
    "# TDOO: learn more about k-means"
   ]
  },
  {
   "cell_type": "code",
   "execution_count": 2,
   "id": "82db5cde-62c0-446f-94da-88d217e6ca56",
   "metadata": {},
   "outputs": [],
   "source": [
    "import numpy as np\n",
    "import pandas as pd\n",
    "from dataclasses import dataclass\n",
    "from typing import List\n",
    "from sklearn.metrics.pairwise import cosine_similarity\n",
    "from sklearn.cluster import k_means"
   ]
  },
  {
   "cell_type": "code",
   "execution_count": 3,
   "id": "8dffbaaa-f1dd-40ce-9d38-e28d172a5ce4",
   "metadata": {},
   "outputs": [],
   "source": [
    "# load codeex quiz user's performance dataset\n",
    "performance_df = pd.read_csv(\"codeex_quiz_performance.csv\")\n",
    "\n",
    "performance_df.columns = [\n",
    "    \"user_id\", \n",
    "    \"full_name\", \n",
    "    \"quiz_id\", \n",
    "    \"quiz_points\", \n",
    "    \"quiz_difficulty\", \n",
    "    \"time_limit\", \n",
    "    \"total_sub_quizzes\", \n",
    "    \"topic_id\", \n",
    "    \"topic_label\", \n",
    "    \"rewarded_points\", \n",
    "    \"completion_time\", \n",
    "    \"total_completed_sub_quizzes\"\n",
    "]"
   ]
  },
  {
   "cell_type": "code",
   "execution_count": 4,
   "id": "5e62ea0c-80ce-457d-8d3d-112de146c386",
   "metadata": {},
   "outputs": [],
   "source": [
    "def calculate_user_performance_score(performance: pd.DataFrame) -> int:\n",
    "    \"\"\"\n",
    "    \"total_points_possible\" refers to the maximum number of points that can be earned in a quiz. \n",
    "    It is the total number of points that the quiz is worth, regardless of how many points the \n",
    "    user actually earned.\n",
    "\n",
    "    For example, if a quiz is worth 100 points and the user earns 90 points, then the total_points_possible \n",
    "    would still be 100. This is important to include in the performance score formula because it normalizes \n",
    "    the user's performance across quizzes that have different point values. It ensures that a user \n",
    "    who earns 90 points on a 100-point quiz is not penalized compared to a user who earns 90 points \n",
    "    on a 50-point quiz.\n",
    "    \"\"\"\n",
    "    total_points_possible = 100 # that mean 10 sub quizzes maximum, for each 10 points\n",
    "    \n",
    "    time_factor = performance.time_limit / performance.completion_time\n",
    "    completion_factor = performance.total_sub_quizzes / performance.total_completed_sub_quizzes\n",
    "    completion_time_factor = performance.completion_time / performance.time_limit\n",
    "    total_completed_sub_quizzes_factor = performance.total_completed_sub_quizzes / performance.total_sub_quizzes\n",
    "    difficulity_rate = (performance.quiz_difficulty - 1) / 2\n",
    "    rewarded_points_factor = performance.rewarded_points / performance.quiz_points\n",
    "    \n",
    "    return (performance.quiz_points *  difficulity_rate * time_factor *  completion_factor * rewarded_points_factor) /\\\n",
    "        (total_points_possible * performance.total_sub_quizzes * completion_time_factor * total_completed_sub_quizzes_factor) \\\n",
    "            * 100"
   ]
  },
  {
   "cell_type": "code",
   "execution_count": 5,
   "id": "e48ba6fc-24e5-40ed-ad0d-49447b60c487",
   "metadata": {},
   "outputs": [],
   "source": [
    "# dataframe containing user quiz score\n",
    "performance_df[\"scores\"] = performance_df.apply(calculate_user_performance_score, axis=1)"
   ]
  },
  {
   "cell_type": "code",
   "execution_count": 6,
   "id": "5cd81f7d-b4e8-4e13-b628-a93439be5799",
   "metadata": {},
   "outputs": [],
   "source": [
    "# dataframe containing user topic scores\n",
    "result = performance_df.groupby(['user_id', 'topic_id'])['scores'].mean()\n",
    "topic_scores = pd.DataFrame(result).reset_index()"
   ]
  },
  {
   "cell_type": "code",
   "execution_count": 7,
   "id": "ea7afad4-72cd-4bed-9a63-d2a3be654945",
   "metadata": {},
   "outputs": [],
   "source": [
    "# topic perfomance dataframe\n",
    "topic_performance = topic_scores.pivot(index='user_id', columns='topic_id', values='scores').fillna(0)"
   ]
  },
  {
   "cell_type": "code",
   "execution_count": 8,
   "id": "c6857fcf-2d71-4f0c-b11a-674969e64d9c",
   "metadata": {},
   "outputs": [],
   "source": [
    "# users similarity matrix\n",
    "users_similarity = cosine_similarity(topic_performance.values)"
   ]
  },
  {
   "cell_type": "code",
   "execution_count": 9,
   "id": "81215aeb-d843-4889-8905-ba96cd77affa",
   "metadata": {},
   "outputs": [],
   "source": [
    "# finding the top similar users based on their performance score\n",
    "kmeans = k_means(users_similarity, n_clusters=2, random_state=0, n_init=\"auto\")"
   ]
  }
 ],
 "metadata": {
  "kernelspec": {
   "display_name": "Python 3 (ipykernel)",
   "language": "python",
   "name": "python3"
  },
  "language_info": {
   "codemirror_mode": {
    "name": "ipython",
    "version": 3
   },
   "file_extension": ".py",
   "mimetype": "text/x-python",
   "name": "python",
   "nbconvert_exporter": "python",
   "pygments_lexer": "ipython3",
   "version": "3.10.9"
  }
 },
 "nbformat": 4,
 "nbformat_minor": 5
}
